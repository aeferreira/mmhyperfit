{
 "cells": [
  {
   "cell_type": "code",
   "execution_count": null,
   "metadata": {},
   "outputs": [],
   "source": [
    "%matplotlib inline\n",
    "import matplotlib.pyplot as plt\n",
    "from mm_fitting.methods import MM, compute_methods\n",
    "from rwplots import read_data, report_str, hypers_mpl, plot_others_mpl"
   ]
  },
  {
   "cell_type": "code",
   "execution_count": null,
   "metadata": {},
   "outputs": [],
   "source": [
    "demo_data_wilkinson = \"\"\"\n",
    "    a     v\n",
    "    0.138 0.148\n",
    "    0.220 0.171\n",
    "    0.291 0.234\n",
    "    0.560 0.324\n",
    "    0.766 0.390\n",
    "    1.460 0.493\n",
    "\"\"\"\n",
    "\n",
    "demo_data = \"\"\"\n",
    "    a     v\n",
    "    0.8 217\n",
    "    2 325\n",
    "    4 433\n",
    "    6 488\n",
    "    20 620\n",
    "\"\"\"\n",
    "\n",
    "data = read_data(demo_data_wilkinson)\n",
    "data\n"
   ]
  },
  {
   "cell_type": "code",
   "execution_count": null,
   "metadata": {},
   "outputs": [],
   "source": [
    "a = data['substrate'].values\n",
    "v0 = data['rate'].values\n",
    "results = compute_methods(a, v0)\n",
    "\n",
    "print(report_str(results))\n"
   ]
  },
  {
   "cell_type": "code",
   "execution_count": null,
   "metadata": {},
   "outputs": [],
   "source": [
    "f, ax = plt.subplots()\n",
    "hypers_mpl(results, ax=ax)\n",
    "# f.savefig('hypers.png')\n",
    "# f.savefig('hypers.pdf')\n",
    "plt.show()\n"
   ]
  },
  {
   "cell_type": "code",
   "execution_count": null,
   "metadata": {},
   "outputs": [],
   "source": [
    "f, ax = plt.subplots(figsize=(9, 6), tight_layout=True)\n",
    "plot_others_mpl(results=results, f=f)\n",
    "# f.savefig('others.png')\n",
    "# f.savefig('others.pdf')\n",
    "plt.show()"
   ]
  }
 ],
 "metadata": {
  "anaconda-cloud": {},
  "kernelspec": {
   "display_name": "Python 3 (ipykernel)",
   "language": "python",
   "name": "python3"
  },
  "language_info": {
   "codemirror_mode": {
    "name": "ipython",
    "version": 3
   },
   "file_extension": ".py",
   "mimetype": "text/x-python",
   "name": "python",
   "nbconvert_exporter": "python",
   "pygments_lexer": "ipython3",
   "version": "3.10.13"
  }
 },
 "nbformat": 4,
 "nbformat_minor": 1
}
