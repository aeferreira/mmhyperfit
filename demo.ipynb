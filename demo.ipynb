{
 "cells": [
  {
   "cell_type": "code",
   "execution_count": null,
   "metadata": {
    "collapsed": false
   },
   "outputs": [],
   "source": [
    "%matplotlib inline\n",
    "from __future__ import print_function\n",
    "from methods import read_data, compute_methods"
   ]
  },
  {
   "cell_type": "code",
   "execution_count": null,
   "metadata": {
    "collapsed": false
   },
   "outputs": [],
   "source": [
    "demo_data = \"\"\"\n",
    "    s     v\n",
    "    0.138 0.148\n",
    "    0.220 0.171\n",
    "    0.291 0.234\n",
    "    0.560 0.324\n",
    "    0.766 0.390\n",
    "    1.460 0.493\n",
    "\"\"\"\n",
    "\n",
    "s, v0 = read_data(demo_data)\n",
    "print ('s  =', s)\n",
    "print ('v0 =', v0)\n",
    "print ('-------------------------------------------------')\n",
    "results = compute_methods(s, v0)\n",
    "print(results)\n",
    "\n",
    "f = results.plot_hypers()\n",
    "f.savefig('hypers.png')\n",
    "f.savefig('hypers.pdf')\n",
    "\n",
    "f = results.plot_others()\n",
    "f.savefig('others.png')\n",
    "f.savefig('others.pdf')"
   ]
  },
  {
   "cell_type": "code",
   "execution_count": null,
   "metadata": {
    "collapsed": true
   },
   "outputs": [],
   "source": []
  }
 ],
 "metadata": {
  "anaconda-cloud": {},
  "kernelspec": {
   "display_name": "Python [Root]",
   "language": "python",
   "name": "Python [Root]"
  },
  "language_info": {
   "codemirror_mode": {
    "name": "ipython",
    "version": 3
   },
   "file_extension": ".py",
   "mimetype": "text/x-python",
   "name": "python",
   "nbconvert_exporter": "python",
   "pygments_lexer": "ipython3",
   "version": "3.5.2"
  }
 },
 "nbformat": 4,
 "nbformat_minor": 0
}
