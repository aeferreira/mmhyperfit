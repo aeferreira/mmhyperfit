{
 "cells": [
  {
   "cell_type": "code",
   "execution_count": 1,
   "metadata": {},
   "outputs": [],
   "source": [
    "%matplotlib inline\n",
    "import matplotlib.pyplot as plt\n",
    "from mm_fitting.methods import MM, compute_methods\n",
    "from rwplots import read_data, report_str, hypers_mpl, plot_others_mpl"
   ]
  },
  {
   "cell_type": "code",
   "execution_count": 2,
   "metadata": {},
   "outputs": [
    {
     "data": {
      "text/html": [
       "<div>\n",
       "<style scoped>\n",
       "    .dataframe tbody tr th:only-of-type {\n",
       "        vertical-align: middle;\n",
       "    }\n",
       "\n",
       "    .dataframe tbody tr th {\n",
       "        vertical-align: top;\n",
       "    }\n",
       "\n",
       "    .dataframe thead th {\n",
       "        text-align: right;\n",
       "    }\n",
       "</style>\n",
       "<table border=\"1\" class=\"dataframe\">\n",
       "  <thead>\n",
       "    <tr style=\"text-align: right;\">\n",
       "      <th></th>\n",
       "      <th>substrate</th>\n",
       "      <th>rate</th>\n",
       "      <th>use</th>\n",
       "    </tr>\n",
       "  </thead>\n",
       "  <tbody>\n",
       "    <tr>\n",
       "      <th>0</th>\n",
       "      <td>0.138</td>\n",
       "      <td>0.148</td>\n",
       "      <td>True</td>\n",
       "    </tr>\n",
       "    <tr>\n",
       "      <th>1</th>\n",
       "      <td>0.220</td>\n",
       "      <td>0.171</td>\n",
       "      <td>True</td>\n",
       "    </tr>\n",
       "    <tr>\n",
       "      <th>2</th>\n",
       "      <td>0.291</td>\n",
       "      <td>0.234</td>\n",
       "      <td>True</td>\n",
       "    </tr>\n",
       "    <tr>\n",
       "      <th>3</th>\n",
       "      <td>0.560</td>\n",
       "      <td>0.324</td>\n",
       "      <td>True</td>\n",
       "    </tr>\n",
       "    <tr>\n",
       "      <th>4</th>\n",
       "      <td>0.766</td>\n",
       "      <td>0.390</td>\n",
       "      <td>True</td>\n",
       "    </tr>\n",
       "    <tr>\n",
       "      <th>5</th>\n",
       "      <td>1.460</td>\n",
       "      <td>0.493</td>\n",
       "      <td>True</td>\n",
       "    </tr>\n",
       "  </tbody>\n",
       "</table>\n",
       "</div>"
      ],
      "text/plain": [
       "   substrate   rate   use\n",
       "0      0.138  0.148  True\n",
       "1      0.220  0.171  True\n",
       "2      0.291  0.234  True\n",
       "3      0.560  0.324  True\n",
       "4      0.766  0.390  True\n",
       "5      1.460  0.493  True"
      ]
     },
     "execution_count": 2,
     "metadata": {},
     "output_type": "execute_result"
    }
   ],
   "source": [
    "demo_data_wilkinson = \"\"\"\n",
    "    a     v\n",
    "    0.138 0.148\n",
    "    0.220 0.171\n",
    "    0.291 0.234\n",
    "    0.560 0.324\n",
    "    0.766 0.390\n",
    "    1.460 0.493\n",
    "\"\"\"\n",
    "\n",
    "demo_data = \"\"\"\n",
    "    a     v\n",
    "    0.8 217\n",
    "    2 325\n",
    "    4 433\n",
    "    6 488\n",
    "    20 620\n",
    "\"\"\"\n",
    "\n",
    "data = read_data(demo_data_wilkinson)\n",
    "data\n"
   ]
  },
  {
   "cell_type": "code",
   "execution_count": 3,
   "metadata": {},
   "outputs": [
    {
     "name": "stdout",
     "output_type": "stream",
     "text": [
      "Hyperbolic regression\n",
      "   V  =  0.689 ±  0.031\n",
      "   Km =  0.594 ±  0.054\n",
      "Lineweaver-Burk\n",
      "   V  =  0.585 ±  0.104\n",
      "   Km =  0.441 ±  0.091\n",
      "Hanes\n",
      "   V  =  0.685 ±  0.038\n",
      "   Km =  0.582 ±  0.052\n",
      "Eadie-Hofstee\n",
      "   V  =  0.626 ±  0.060\n",
      "   Km =  0.490 ±  0.083\n",
      "Eisenthal-C.Bowden\n",
      "   V  =  0.659\n",
      "   Km =  0.529\n"
     ]
    }
   ],
   "source": [
    "a = data['substrate'].values\n",
    "v0 = data['rate'].values\n",
    "results = compute_methods(a, v0)\n",
    "\n",
    "print(report_str(results))\n"
   ]
  },
  {
   "cell_type": "code",
   "execution_count": 4,
   "metadata": {},
   "outputs": [
    {
     "ename": "AttributeError",
     "evalue": "'NoneType' object has no attribute 'include_methods'",
     "output_type": "error",
     "traceback": [
      "\u001b[1;31m---------------------------------------------------------------------------\u001b[0m",
      "\u001b[1;31mAttributeError\u001b[0m                            Traceback (most recent call last)",
      "\u001b[1;32mc:\\Users\\a3nf\\Desktop\\mmhyperfit\\demo.ipynb Cell 4\u001b[0m line \u001b[0;36m2\n\u001b[0;32m      <a href='vscode-notebook-cell:/c%3A/Users/a3nf/Desktop/mmhyperfit/demo.ipynb#W3sZmlsZQ%3D%3D?line=0'>1</a>\u001b[0m f, ax \u001b[39m=\u001b[39m plt\u001b[39m.\u001b[39msubplots()\n\u001b[1;32m----> <a href='vscode-notebook-cell:/c%3A/Users/a3nf/Desktop/mmhyperfit/demo.ipynb#W3sZmlsZQ%3D%3D?line=1'>2</a>\u001b[0m hypers_mpl(results, ax\u001b[39m=\u001b[39;49max)\n\u001b[0;32m      <a href='vscode-notebook-cell:/c%3A/Users/a3nf/Desktop/mmhyperfit/demo.ipynb#W3sZmlsZQ%3D%3D?line=2'>3</a>\u001b[0m \u001b[39m# f.savefig('hypers.png')\u001b[39;00m\n\u001b[0;32m      <a href='vscode-notebook-cell:/c%3A/Users/a3nf/Desktop/mmhyperfit/demo.ipynb#W3sZmlsZQ%3D%3D?line=3'>4</a>\u001b[0m \u001b[39m# f.savefig('hypers.pdf')\u001b[39;00m\n\u001b[0;32m      <a href='vscode-notebook-cell:/c%3A/Users/a3nf/Desktop/mmhyperfit/demo.ipynb#W3sZmlsZQ%3D%3D?line=4'>5</a>\u001b[0m plt\u001b[39m.\u001b[39mshow()\n",
      "File \u001b[1;32mc:\\Users\\a3nf\\Desktop\\mmhyperfit\\rwplots.py:78\u001b[0m, in \u001b[0;36mhypers_mpl\u001b[1;34m(results, ax, plot_settings, title)\u001b[0m\n\u001b[0;32m     74\u001b[0m \u001b[39m# plt.rc('mathtext', fontset='cm')\u001b[39;00m\n\u001b[0;32m     75\u001b[0m \u001b[39m# defaults\u001b[39;00m\n\u001b[0;32m     76\u001b[0m colorscheme \u001b[39m=\u001b[39m default_color_scheme\n\u001b[1;32m---> 78\u001b[0m chosen3letter \u001b[39m=\u001b[39m [choice[:\u001b[39m3\u001b[39m] \u001b[39mfor\u001b[39;00m choice \u001b[39min\u001b[39;00m plot_settings\u001b[39m.\u001b[39;49minclude_methods]\n\u001b[0;32m     80\u001b[0m colors \u001b[39m=\u001b[39m {}\n\u001b[0;32m     81\u001b[0m kept \u001b[39m=\u001b[39m []\n",
      "\u001b[1;31mAttributeError\u001b[0m: 'NoneType' object has no attribute 'include_methods'"
     ]
    },
    {
     "data": {
      "image/png": "[encoded data removed]",
      "text/plain": [
       "<Figure size 640x480 with 1 Axes>"
      ]
     },
     "metadata": {},
     "output_type": "display_data"
    }
   ],
   "source": [
    "f, ax = plt.subplots()\n",
    "hypers_mpl(results, ax=ax)\n",
    "# f.savefig('hypers.png')\n",
    "# f.savefig('hypers.pdf')\n",
    "plt.show()\n"
   ]
  },
  {
   "cell_type": "code",
   "execution_count": null,
   "metadata": {},
   "outputs": [],
   "source": [
    "\n",
    "f = results.plot_others()\n",
    "f.savefig('others.png')\n",
    "f.savefig('others.pdf')"
   ]
  }
 ],
 "metadata": {
  "anaconda-cloud": {},
  "kernelspec": {
   "display_name": "Python 3 (ipykernel)",
   "language": "python",
   "name": "python3"
  },
  "language_info": {
   "codemirror_mode": {
    "name": "ipython",
    "version": 3
   },
   "file_extension": ".py",
   "mimetype": "text/x-python",
   "name": "python",
   "nbconvert_exporter": "python",
   "pygments_lexer": "ipython3",
   "version": "3.8.5"
  }
 },
 "nbformat": 4,
 "nbformat_minor": 1
}
