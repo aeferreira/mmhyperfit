{
 "cells": [
  {
   "cell_type": "code",
   "execution_count": null,
   "metadata": {},
   "outputs": [],
   "source": [
    "%matplotlib inline\n",
    "from methods import read_data, compute_methods"
   ]
  },
  {
   "cell_type": "code",
   "execution_count": null,
   "metadata": {},
   "outputs": [],
   "source": [
    "demo_data_wilkinson = \"\"\"\n",
    "    a     v\n",
    "    0.138 0.148\n",
    "    0.220 0.171\n",
    "    0.291 0.234\n",
    "    0.560 0.324\n",
    "    0.766 0.390\n",
    "    1.460 0.493\n",
    "\"\"\"\n",
    "\n",
    "demo_data = \"\"\"\n",
    "    a     v\n",
    "    0.8 217\n",
    "    2 325\n",
    "    4 433\n",
    "    6 488\n",
    "    20 620\n",
    "\"\"\"\n",
    "\n",
    "s, v0 = read_data(demo_data_wilkinson)\n",
    "print ('s  =', s)\n",
    "print ('v0 =', v0)\n",
    "print ('-------------------------------------------------')\n",
    "results = compute_methods(s, v0)\n",
    "print(results)\n",
    "\n",
    "f = results.plot_hypers()\n",
    "f.savefig('hypers.png')\n",
    "f.savefig('hypers.pdf')\n",
    "\n",
    "f = results.plot_others()\n",
    "f.savefig('others.png')\n",
    "f.savefig('others.pdf')"
   ]
  }
 ],
 "metadata": {
  "anaconda-cloud": {},
  "kernelspec": {
   "display_name": "Python 3 (ipykernel)",
   "language": "python",
   "name": "python3"
  },
  "language_info": {
   "codemirror_mode": {
    "name": "ipython",
    "version": 3
   },
   "file_extension": ".py",
   "mimetype": "text/x-python",
   "name": "python",
   "nbconvert_exporter": "python",
   "pygments_lexer": "ipython3",
   "version": "3.8.5"
  }
 },
 "nbformat": 4,
 "nbformat_minor": 1
}
